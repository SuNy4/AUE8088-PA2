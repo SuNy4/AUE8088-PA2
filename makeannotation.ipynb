{
 "cells": [
  {
   "cell_type": "code",
   "execution_count": 1,
   "metadata": {},
   "outputs": [],
   "source": [
    "import json\n",
    "import os\n",
    "import cv2\n",
    "import copy\n",
    "from tqdm import tqdm\n",
    "\n",
    "image_dir = './datasets/kaist-rgbt/train/images/visible'\n",
    "label_dir = './datasets/kaist-rgbt/train/labels'"
   ]
  },
  {
   "cell_type": "code",
   "execution_count": 2,
   "metadata": {},
   "outputs": [],
   "source": [
    "# Annotation format based on example file\n",
    "anno_format_init = {\n",
    "    \"info\": {\n",
    "        \"dataset\": \"KAIST Multispectral Pedestrian Benchmark\",\n",
    "        \"url\": \"https://soonminhwang.github.io/rgbt-ped-detection/\",\n",
    "        \"related_project_url\": \"http://multispectral.kaist.ac.kr\",\n",
    "        \"publish\": \"CVPR 2015\"\n",
    "    },\n",
    "    \"info_improved\": {\n",
    "        \"sanitized_annotation\": {\n",
    "            \"publish\": \"BMVC 2018\",\n",
    "            \"url\": \"https://li-chengyang.github.io/home/MSDS-RCNN/\",\n",
    "            \"target\": \"files in train-all-02.txt (set00-set05)\"\n",
    "        },\n",
    "        \"improved_annotation\": {\n",
    "            \"url\": \"https://github.com/denny1108/multispectral-pedestrian-py-faster-rcnn\",\n",
    "            \"publish\": \"BMVC 2016\",\n",
    "            \"target\": \"files in test-all-20.txt (set06-set11)\"\n",
    "        }\n",
    "    },\n",
    "    \"images\": [],\n",
    "    \"annotations\": [],\n",
    "    \"categories\": [\n",
    "        {\n",
    "            \"id\": 0,\n",
    "            \"name\": \"person\"\n",
    "        },\n",
    "        {\n",
    "            \"id\": 1,\n",
    "            \"name\": \"cyclist\"\n",
    "        },\n",
    "        {\n",
    "            \"id\": 2,\n",
    "            \"name\": \"people\"\n",
    "        },\n",
    "        {\n",
    "            \"id\": 3,\n",
    "            \"name\": \"person?\"\n",
    "        }\n",
    "    ]\n",
    "}"
   ]
  },
  {
   "cell_type": "code",
   "execution_count": 3,
   "metadata": {},
   "outputs": [
    {
     "name": "stdout",
     "output_type": "stream",
     "text": [
      "Annotation file for fold 1 already exists, remove and regenerating...\n"
     ]
    },
    {
     "name": "stderr",
     "output_type": "stream",
     "text": [
      "Generating Annotations for fold 1...: 100%|██████████| 2508/2508 [00:14<00:00, 170.28it/s]\n"
     ]
    },
    {
     "name": "stdout",
     "output_type": "stream",
     "text": [
      "Annotation file for fold 2 already exists, remove and regenerating...\n"
     ]
    },
    {
     "name": "stderr",
     "output_type": "stream",
     "text": [
      "Generating Annotations for fold 2...: 100%|██████████| 2508/2508 [00:13<00:00, 181.96it/s]\n"
     ]
    },
    {
     "name": "stdout",
     "output_type": "stream",
     "text": [
      "Annotation file for fold 3 already exists, remove and regenerating...\n"
     ]
    },
    {
     "name": "stderr",
     "output_type": "stream",
     "text": [
      "Generating Annotations for fold 3...: 100%|██████████| 2508/2508 [00:13<00:00, 181.97it/s]\n"
     ]
    },
    {
     "name": "stdout",
     "output_type": "stream",
     "text": [
      "Annotation file for fold 4 already exists, remove and regenerating...\n"
     ]
    },
    {
     "name": "stderr",
     "output_type": "stream",
     "text": [
      "Generating Annotations for fold 4...: 100%|██████████| 2507/2507 [00:13<00:00, 183.22it/s]\n"
     ]
    },
    {
     "name": "stdout",
     "output_type": "stream",
     "text": [
      "Annotation file for fold 5 already exists, remove and regenerating...\n"
     ]
    },
    {
     "name": "stderr",
     "output_type": "stream",
     "text": [
      "Generating Annotations for fold 5...: 100%|██████████| 2507/2507 [00:18<00:00, 139.13it/s]\n"
     ]
    }
   ],
   "source": [
    "\n",
    "kfold = 5\n",
    "\n",
    "# Circle files in img directory\n",
    "for i in range(1, kfold+1):\n",
    "    anno_format = copy.deepcopy(anno_format_init)\n",
    "    image_id = 0\n",
    "    annotation_id = 0\n",
    "    output_path = f\"./utils/eval/KAIST_annotation_{i}.json\"\n",
    "    if os.path.exists(output_path):\n",
    "        print(f\"Annotation file for fold {i} already exists, remove and regenerating...\")\n",
    "        os.remove(output_path)\n",
    "\n",
    "    list_path = f\"./datasets/kaist-rgbt/val_all_04_{i}.txt\"\n",
    "    with open(list_path, 'r') as img_name:\n",
    "        img_list = img_name.readlines()\n",
    "        for list in tqdm(img_list, desc=f\"Generating Annotations for fold {i}...\"):\n",
    "            file_name = os.path.basename(list).strip()\n",
    "            image_path = os.path.join(image_dir, file_name)\n",
    "            annotation_path = os.path.join(label_dir, file_name.replace('.jpg', '.txt'))\n",
    "            \n",
    "            #Read Image file, image should be read all\n",
    "            img = cv2.imread(image_path)\n",
    "            height, width, _ = img.shape\n",
    "            image_info = {\n",
    "                    \"id\": image_id,\n",
    "                    \"im_name\": file_name,\n",
    "                    \"width\": width,\n",
    "                    \"height\": height      \n",
    "                }\n",
    "            anno_format['images'].append(image_info)\n",
    "\n",
    "            # Read annotation file\n",
    "            with open(annotation_path, 'r') as f:\n",
    "                lines = f.readlines()\n",
    "                \n",
    "                #Skip annotation if no annotations for image\n",
    "                if not lines:\n",
    "                    #Should add image_id\n",
    "                    image_id += 1\n",
    "                    continue\n",
    "\n",
    "                for line in lines:\n",
    "                    cls, x_lefttop, y_lefttop, w, h, occlevel = map(float, line.strip().split())\n",
    "                    bbox = [x_lefttop*width, y_lefttop*height, w*width, h*height]\n",
    "                    annotation_info = {\n",
    "                        \"id\": annotation_id,\n",
    "                        \"image_id\": image_id,\n",
    "                        \"category_id\": cls,\n",
    "                        \"bbox\": bbox,\n",
    "                        \"height\": bbox[-1],\n",
    "                        \"occlusion\": occlevel, \n",
    "                        \"ignore\": occlevel\n",
    "                    }\n",
    "                    anno_format['annotations'].append(annotation_info)\n",
    "                    annotation_id += 1\n",
    "\n",
    "                image_id += 1\n",
    "\n",
    "    with open(output_path, 'w') as f:\n",
    "        json.dump(anno_format, f, indent=2)"
   ]
  }
 ],
 "metadata": {
  "kernelspec": {
   "display_name": "proj",
   "language": "python",
   "name": "python3"
  },
  "language_info": {
   "codemirror_mode": {
    "name": "ipython",
    "version": 3
   },
   "file_extension": ".py",
   "mimetype": "text/x-python",
   "name": "python",
   "nbconvert_exporter": "python",
   "pygments_lexer": "ipython3",
   "version": "3.8.19"
  }
 },
 "nbformat": 4,
 "nbformat_minor": 2
}
